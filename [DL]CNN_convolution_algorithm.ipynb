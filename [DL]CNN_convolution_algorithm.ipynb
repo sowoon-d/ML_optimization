{
  "nbformat": 4,
  "nbformat_minor": 0,
  "metadata": {
    "colab": {
      "name": "[딥러닝]CNN_convolution_algorithm.ipynb",
      "provenance": []
    },
    "kernelspec": {
      "name": "python3",
      "display_name": "Python 3"
    },
    "language_info": {
      "name": "python"
    }
  },
  "cells": [
    {
      "cell_type": "markdown",
      "source": [
        "## CNN의 convolution 구현하기\n",
        "\n",
        "![](https://imagedelivery.net/v7-TZByhOiJbNM9RaUdzSA/891d2e41-4ac7-4540-4415-d197fb550500/public)\n",
        "\n",
        "[CS231n 2020 Lecture note 7]\n",
        "\n",
        "\n",
        "### Reference\n",
        "- https://ndb796.tistory.com/651"
      ],
      "metadata": {
        "id": "BN4blVhDjmji"
      }
    },
    {
      "cell_type": "code",
      "execution_count": 8,
      "metadata": {
        "id": "t3VhuBvz2Onq"
      },
      "outputs": [],
      "source": [
        "import numpy as np\n",
        "\n",
        "def conv(X, filters, stride=1, pad=0):\n",
        "  n, c, h, w = X.shape\n",
        "\n",
        "  n_f, _, filter_h, filter_w = filters.shape\n",
        "\n",
        "  out_h = int((h+2*pad-filter_h)/stride +1)\n",
        "  out_w = int((w+2*pad-filter_w)/stride +1)\n",
        "\n",
        "  # add padding to height and width. \n",
        "  in_X = np.pad(X, [(0, 0), (0, 0), (pad, pad), (pad, pad)], 'constant')  # padding으로 모양이 커진 in_X\n",
        "  # print(n, n_f, out_h, out_w)\n",
        "  out = np.zeros((n, n_f, out_h, out_w))\n",
        "\n",
        "  for i in range(n): # 각 이미지별\n",
        "    for c in range(n_f): # output channel의 수만큼\n",
        "      for h in range(out_h):\n",
        "        h_start = h*stride # 시작지점에 stride 적용\n",
        "        h_end = h_start + filter_h \n",
        "        for w in range(out_w):\n",
        "          w_start  = w*stride # 시작지점에 stride 적용\n",
        "          w_end = w_start + filter_w\n",
        "          out[i, c, h, w] = np.sum(in_X[i, : , h_start:h_end, w_start:w_end] *filters[c])\n",
        "  return out\n",
        "\n"
      ]
    },
    {
      "cell_type": "code",
      "source": [
        "X = np.asarray([ \n",
        "                # image 1 \n",
        "                [ [[1, 2, 9, 2, 7], [5, 0, 3, 1, 8], [4, 1, 3, 0, 6], [2, 5, 2, 9, 5], [6, 5, 1, 3, 2]], [[4, 5, 7, 0, 8], [5, 8, 5, 3, 5], [4, 2, 1, 6, 5], [7, 3, 2, 1, 0], [6, 1, 2, 2, 6]], [[3, 7, 4, 5, 0], [5, 4, 6, 8, 9], [6, 1, 9, 1, 6], [9, 3, 0, 2, 4], [1, 2, 5, 5, 2]] ], \n",
        "                # image 2 \n",
        "                [ [[7, 2, 1, 4, 2], [5, 4, 6, 5, 0], [1, 2, 4, 2, 8], [5, 9, 0, 5, 1], [7, 6, 2, 4, 6]], [[5, 4, 2, 5, 7], [6, 1, 4, 0, 5], [8, 9, 4, 7, 6], [4, 5, 5, 6, 7], [1, 2, 7, 4, 1]], [[7, 4, 8, 9, 7], [5, 5, 8, 1, 4], [3, 2, 2, 5, 2], [1, 0, 3, 7, 6], [4, 5, 4, 5, 5]] ] \n",
        "                ])\n",
        "\n",
        "print('Images:', X.shape) \n",
        "filters = np.asarray([ \n",
        "                    # kernel 1 \n",
        "                    [ [[1, 0, 1], [0, 1, 0], [1, 0, 1]], [[3, 1, 3], [1, 3, 1], [3, 1, 3]], [[1, 2, 1], [2, 2, 2], [1, 2, 1]] ],\n",
        "                    # kernel 2 \n",
        "                    [ [[5, 1, 5], [2, 1, 2], [5, 1, 5]], [[1, 1, 1], [1, 1, 1], [1, 1, 1]], [[2, 0, 2], [0, 2, 0], [2, 0, 2]], ],\n",
        "                    # kernel 3 \n",
        "                    [ [[5, 1, 5], [2, 1, 2], [5, 1, 5]], [[1, 1, 1], [1, 1, 1], [1, 1, 1]], [[2, 0, 2], [0, 2, 0], [2, 0, 2]], ] \n",
        "                    ]) \n",
        "\n",
        "print('Filters:', filters.shape) \n",
        "out = conv(X, filters, stride=2, pad=0)  #stride 2 : (5-3)/2+1\n",
        "print('Output:', out.shape) \n",
        "print(out)\n",
        "\n"
      ],
      "metadata": {
        "colab": {
          "base_uri": "https://localhost:8080/"
        },
        "id": "EJeEs8-VLAnb",
        "outputId": "03e5a69f-caef-4c2e-8eed-8eb384ff2f8d"
      },
      "execution_count": 9,
      "outputs": [
        {
          "output_type": "stream",
          "name": "stdout",
          "text": [
            "Images: (2, 3, 5, 5)\n",
            "Filters: (3, 3, 3, 3)\n",
            "Output: (2, 3, 2, 2)\n",
            "[[[[174. 191.]\n",
            "   [130. 122.]]\n",
            "\n",
            "  [[197. 244.]\n",
            "   [165. 159.]]\n",
            "\n",
            "  [[197. 244.]\n",
            "   [165. 159.]]]\n",
            "\n",
            "\n",
            " [[[168. 171.]\n",
            "   [153. 185.]]\n",
            "\n",
            "  [[188. 178.]\n",
            "   [168. 200.]]\n",
            "\n",
            "  [[188. 178.]\n",
            "   [168. 200.]]]]\n"
          ]
        }
      ]
    }
  ]
}